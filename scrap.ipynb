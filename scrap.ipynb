{
 "cells": [
  {
   "cell_type": "code",
   "execution_count": null,
   "id": "0b68e4ac",
   "metadata": {},
   "outputs": [
    {
     "name": "stdout",
     "output_type": "stream",
     "text": [
      "200\n",
      "https://climatecasechart.com/case/climate-united-fund-v-citibank-na/\n",
      "https://climatecasechart.com/case/green-climate-v-rollins/\n",
      "https://climatecasechart.com/case/northeast-organic-farming-association-of-new-york-v-us-department-of-agriculture/\n",
      "https://climatecasechart.com/case/state-of-hawaii-v-bp-plc/\n",
      "https://climatecasechart.com/case/united-states-v-new-york/\n",
      "https://climatecasechart.com/case/99017/\n",
      "https://climatecasechart.com/case/salguero-v-mondelez-international-inc/\n",
      "https://climatecasechart.com/case/save-the-south-fork-salmon-v-us-forest-service/\n",
      "https://climatecasechart.com/case/west-virginia-v-james/\n",
      "https://climatecasechart.com/case/chamber-of-commerce-of-the-united-states-of-america-v-james/\n",
      "https://climatecasechart.com/case/citizen-action-of-new-york-v-new-york-state-department-of-environmental-conservation/\n",
      "https://climatecasechart.com/case/leon-v-exxon-mobil-corp/\n",
      "https://climatecasechart.com/case/wildearth-guardians-v-burgum/\n",
      "https://climatecasechart.com/case/center-for-biological-diversity-v-us-fish-wildlife-service-31/\n",
      "https://climatecasechart.com/case/center-for-biological-diversity-v-burgum-2/\n",
      "https://climatecasechart.com/case/sierra-club-v-epa-8/\n",
      "https://climatecasechart.com/case/sierra-club-v-national-marine-fisheries-service-2/\n",
      "https://climatecasechart.com/case/bark-v-pizarro/\n",
      "https://climatecasechart.com/case/lighthiser-v-trump/\n",
      "https://climatecasechart.com/case/western-new-york-youth-climate-council-v-new-york-state-department-of-transportation/\n"
     ]
    }
   ],
   "source": [
    "# extracting links from climate case chart\n",
    "\n",
    "import requests\n",
    "from bs4 import BeautifulSoup\n",
    "\n",
    "url = \"https://climatecasechart.com/search/?fwp_search=climate\"\n",
    "headers = {\n",
    "    \"User-Agent\": \"Mozilla/5.0\"\n",
    "}\n",
    "response = requests.get(url, headers=headers)\n",
    "print(response.status_code)\n",
    "if response.status_code != 200:\n",
    "    print(\"Failed to retrieve the page\")\n",
    "    exit()\n",
    "\n",
    "soup = BeautifulSoup(response.text, 'html.parser')\n",
    "# total_links = soup.find(\"div\", class_='facetwp-counts')\n",
    "# print(f'header is {total_links.text.strip()}')\n",
    "links = soup.find_all('a', class_='entry-title-link')\n",
    "\n",
    "#print(len(links))\n",
    "for link in links:\n",
    "    print(link['href'])\n",
    "\n",
    "\n",
    "\n",
    "\n"
   ]
  },
  {
   "cell_type": "code",
   "execution_count": null,
   "id": "5f036127",
   "metadata": {},
   "outputs": [],
   "source": [
    "# extracting data from a specific case page\n",
    "\n",
    "from selenium import webdriver\n",
    "from selenium.webdriver.common.by import By\n",
    "from selenium.webdriver.chrome.options import Options\n",
    "import time\n",
    "\n",
    "website = \"https://climatecasechart.com/case/center-for-biological-diversity-v-us-department-of-the-interior-2/\"\n",
    "\n",
    "driver = webdriver.Chrome()\n",
    "\n",
    "driver.get(website)  # replace with actual URL\n",
    "contents = driver.find_element(By.XPATH, \"/html/body/div[1]/div/div/main/article/div/div[2]/ul\") # assuming the first table is the one you want\n",
    "\n",
    "\n",
    "li_list = contents.find_elements(By.TAG_NAME, \"li\")\n",
    "data = []\n",
    "\n",
    "for i, li in enumerate(li_list):\n",
    "    \n",
    "    case_name = li.find_element(By.TAG_NAME, \"h5\")\n",
    "    entry_data = {\"entry_index\": i,\"case name\":case_name.text ,\"rows\": []}\n",
    "    try:\n",
    "        table = li.find_element(By.TAG_NAME, \"table\")\n",
    "        rows = table.find_elements(By.TAG_NAME, \"tr\")\n",
    "        for each in rows:\n",
    "            cells = each.find_elements(By.TAG_NAME, \"td\")\n",
    "            if len(cells) >= 5:\n",
    "                col1 = cells[0].text.strip()\n",
    "                col4 = cells[3].text.strip()\n",
    "                col5 = cells[4].text.strip()\n",
    "\n",
    "                if col5:  # only add if col5 is NOT empty\n",
    "                        entry_data[\"rows\"].append({\n",
    "                            \"Filing Data\": col1,\n",
    "                            \"Action taken\": col4,\n",
    "                            \"Summary\": col5\n",
    "                        })\n",
    "        if entry_data[\"rows\"]:\n",
    "            data.append(entry_data)\n",
    "        # print(case_name.text)\n",
    "\n",
    "\n",
    "\n",
    "        driver.quit()  # close the browser when done\n",
    "    except Exception as e:\n",
    "        continue"
   ]
  },
  {
   "cell_type": "code",
   "execution_count": 46,
   "id": "1ac4c09a",
   "metadata": {},
   "outputs": [
    {
     "data": {
      "text/plain": [
       "[{'entry_index': 1,\n",
       "  'case name': 'Center for Biological Diversity v. U.S. Department of the Interior',\n",
       "  'rows': [{'Filing Data': '11/01/2023',\n",
       "    'Action taken': \"Intervenor-defendants' motion to dismiss granted.\",\n",
       "    'Summary': 'Federal Court Said Environmental Organizations Lacked Standing to Challenge Approvals of Applications for Permit to Drill. The federal district court for the District of Columbia dismissed for lack of standing a lawsuit brought by four environmental organizations to challenge more than 4,000 federal approvals of applications for permit to drill for oil and gas in New Mexico and Wyoming. The court found that the organizations failed to establish associational standing because they did not allege any individual member’s “geographic nexus to any specific well or drilling sites” affected by challenged individual APDs. The court also found that the one organization that argued that it had organizational standing failed to connect its mission to any particular APD approval or to connect changes in its resources needs to the approvals.'},\n",
       "   {'Filing Data': '11/09/2022',\n",
       "    'Action taken': 'Motions to intervene granted.',\n",
       "    'Summary': 'D.C. Federal Court Allowed Companies, Trade Associations, and Wyoming to Intervene to Defend Drilling Permits. The federal district court for the District of Columbia granted motions to intervene on behalf of the defendants in conservation groups’ lawsuit challenging the U.S. Bureau of Land Management’s approval of more than 4,000 applications for permits to drill (APDs) for oil and gas in New Mexico and Wyoming. The court found that companies holding the challenged APDs, industry trade associations, and the State of Wyoming had standing and satisfied requirements to intervene as of right.'},\n",
       "   {'Filing Data': '06/15/2022',\n",
       "    'Action taken': 'Complaint filed.',\n",
       "    'Summary': 'Conservation Groups Challenged Approval of Applications for Permit to Drill in Permian and Powder River Basins. Center for Biological Diversity and WildEarth Guardians filed a lawsuit in the federal district court for the District of Columbia challenging approval of at least 3,535 applications for permit to drill (APDs) for oil and gas in the Permian Basin in New Mexico and in the Powder River Basin in Wyoming. The plaintiffs asserted climate change-related violations of the National Environmental Policy Act (NEPA), the Endangered Species Act, and the Federal Land Policy and Management Act (FLPMA). Under NEPA, the plaintiffs alleged a failure to take a hard look at cumulative greenhouse gas emissions and the resulting climate impacts and to use available tools for assessing the impacts of greenhouse gas emissions from production and combustion of mineral resources authorized by the APDs. They also alleged a failure to consider environmental justice implications of increased greenhouse gas emissions and cumulative climate impacts. Under the Endangered Species Act, the plaintiffs asserted a failure to consult and reinitiate consultation on climate-threatened species. Under FLPMA, they asserted a failure to “take action necessary to prevent unnecessary or undue degradation in the context of climate impacts.”'}]}]"
      ]
     },
     "execution_count": 46,
     "metadata": {},
     "output_type": "execute_result"
    }
   ],
   "source": [
    "data"
   ]
  },
  {
   "cell_type": "code",
   "execution_count": 43,
   "id": "ef78e852",
   "metadata": {},
   "outputs": [],
   "source": [
    "import csv\n",
    "with open(\"cases.csv\", mode=\"w\", newline=\"\", encoding=\"utf-8\") as file:\n",
    "    writer = csv.DictWriter(file, fieldnames=[\"entry_index\", \"case name\", \"Filing Data\", \"Action taken\", \"Summary\"])\n",
    "    writer.writeheader()\n",
    "\n",
    "    for entry in data:\n",
    "        for row in entry[\"rows\"]:\n",
    "            writer.writerow({\n",
    "                \"entry_index\": entry[\"entry_index\"],\n",
    "                \"case name\": entry[\"case name\"],\n",
    "                \"Filing Data\": row.get(\"Filing Data\", \"\"),\n",
    "                \"Action taken\": row.get(\"Action taken\", \"\"),\n",
    "                \"Summary\": row.get(\"Summary\", \"\")\n",
    "            })"
   ]
  },
  {
   "cell_type": "code",
   "execution_count": null,
   "id": "e6c5e967",
   "metadata": {},
   "outputs": [],
   "source": [
    "# /html/body/div[1]/div/div/main/article/div/div[2]/ul\n",
    "# /html/body/div[1]/div/div/main/article/div/div[2]/ul\n",
    "\n",
    "\n",
    "\n",
    "# /html/body/div[1]/div/div/main/article/div/div[2]/ul/li/h5\n",
    "\n",
    "# /html/body/div[1]/div/div/main/article/div/div[2]/ul/li[1]/h5\n",
    "\n",
    "\n",
    "# /html/body/div[1]/div/div/main/article/div/div[2]/ul/li/div[2]/table"
   ]
  }
 ],
 "metadata": {
  "kernelspec": {
   "display_name": "pide",
   "language": "python",
   "name": "python3"
  },
  "language_info": {
   "codemirror_mode": {
    "name": "ipython",
    "version": 3
   },
   "file_extension": ".py",
   "mimetype": "text/x-python",
   "name": "python",
   "nbconvert_exporter": "python",
   "pygments_lexer": "ipython3",
   "version": "3.12.4"
  }
 },
 "nbformat": 4,
 "nbformat_minor": 5
}
